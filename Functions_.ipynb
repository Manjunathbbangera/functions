{
  "cells": [
    {
      "cell_type": "markdown",
      "metadata": {
        "id": "V7VgB8zdUJUD"
      },
      "source": [
        "#Theory Questions:"
      ]
    },
    {
      "cell_type": "markdown",
      "metadata": {
        "id": "XWR56jpNUNq6"
      },
      "source": [
        "1. **What is the difference between a function and a method in Python?**\n",
        "Ams - In Python:\n",
        "\n",
        "- **Function**: A block of reusable code defined using `def`, not tied to any object or class.\n",
        "  \n",
        "  Example:\n",
        "  ```python\n",
        "  def greet(name):\n",
        "      return f\"Hello, {name}!\"\n",
        "  ```\n",
        "\n",
        "- **Method**: A function that is associated with an object or class and is called using dot notation.\n",
        "\n",
        "  Example:\n",
        "  ```python\n",
        "  class Person:\n",
        "      def greet(self):\n",
        "          return \"Hello!\"\n",
        "  \n",
        "  p = Person()\n",
        "  print(p.greet())  # 'greet' is a method\n",
        "  ```\n",
        "\n",
        "2. **In Python, **function arguments** and **parameters** refer to the values passed to and received by a function:**\n",
        "\n",
        "Ans - **Parameters**: These are the variables listed in the function definition, which define what kind of data the function expects.\n",
        "  \n",
        "  Example:\n",
        "  ```python\n",
        "  def greet(name):  # 'name' is a parameter\n",
        "      return f\"Hello, {name}!\"\n",
        "  ```\n",
        "\n",
        "- **Arguments**: These are the actual values passed to the function when it is called.\n",
        "\n",
        "  Example:\n",
        "  ```python\n",
        "  print(greet(\"Alice\"))  # 'Alice' is an argument\n",
        "  ```\n",
        "\n",
        "3.  **What are the different ways to define and call a function in Python?**\n",
        "Ans - Here are the different ways to define and call a function in Python:\n",
        "\n",
        "A. **Basic Function Definition and Call**:\n",
        "   - Define using `def`.\n",
        "   - Call with required arguments.\n",
        "   ```python\n",
        "   def greet(name):\n",
        "       return f\"Hello, {name}!\"\n",
        "   \n",
        "   greet(\"Alice\")\n",
        "   ```\n",
        "\n",
        "B. **Function with Default Arguments**:\n",
        "   - Provide default values for parameters.\n",
        "   ```python\n",
        "   def greet(name, age=25):\n",
        "       return f\"{name} is {age} years old.\"\n",
        "   \n",
        "   greet(\"Alice\")  # Uses default age\n",
        "   ```\n",
        "\n",
        "C. **Function with Variable-length Arguments**:\n",
        "   - Use `*args` for non-keyword and `**kwargs` for keyword arguments.\n",
        "   ```python\n",
        "   def greet(*names):\n",
        "       for name in names:\n",
        "           print(f\"Hello, {name}!\")\n",
        "   \n",
        "   greet(\"Alice\", \"Bob\")\n",
        "   ```\n",
        "\n",
        "D. **Lambda (Anonymous) Function**:\n",
        "   - Define one-line functions using `lambda`.\n",
        "   ```python\n",
        "   add = lambda a, b: a + b\n",
        "   print(add(2, 3))\n",
        "   ```\n",
        "\n",
        "E. **Function with Keyword Arguments**:\n",
        "   - Pass arguments by name.\n",
        "   ```python\n",
        "   def greet(name, age):\n",
        "       return f\"{name} is {age} years old.\"\n",
        "   \n",
        "   greet(name=\"Alice\", age=30)\n",
        "   ```\n",
        "\n",
        "4.  **What is the purpose of the `return` statement in a Python function?**\n",
        "\n",
        "Ans - The `return` statement in a Python function is used to **send a result back** from the function to the caller. It stops the function's execution and optionally passes a value (or multiple values) back to where the function was called.\n",
        "\n",
        "Example:\n",
        "```python\n",
        "def add(a, b):\n",
        "    return a + b\n",
        "\n",
        "result = add(2, 3)  # result gets the value 5\n",
        "```\n",
        "\n",
        "If no `return` is specified, the function returns `None` by default.\n",
        "\n",
        "\n",
        "5. **What are iterators in Python and how do they differ from iterables?**\n",
        "\n",
        "Ans - In Python:\n",
        "\n",
        "- **Iterable**: An object that can be iterated (looped) over, like lists, tuples, and strings. It implements the `__iter__()` method or has an `__iter__()` method that returns an iterator.\n",
        "\n",
        "- **Iterator**: An object that represents a stream of data, returned by the `__iter__()` method of an iterable. It implements the `__next__()` method to fetch the next item and raises `StopIteration` when there are no more items.\n",
        "\n",
        "### Key Difference:\n",
        "- **Iterable**: Can be looped over (e.g., lists, strings).\n",
        "- **Iterator**: The object that performs the actual iteration (e.g., created from an iterable).\n",
        "\n",
        "Example:\n",
        "```python\n",
        "# Iterable\n",
        "lst = [1, 2, 3]\n",
        "it = iter(lst)  # Iterator\n",
        "\n",
        "# Iterating through iterator\n",
        "print(next(it))  # 1\n",
        "print(next(it))  # 2\n",
        "print(next(it))  # 3\n",
        "```\n",
        "\n",
        "6. ** Explain the concept of generators in Python and how they are defined**\n",
        "\n",
        "Ans - In Python, **generators** are a type of iterable that allow you to iterate over data without storing it all in memory at once.\n",
        "\n",
        "### Key Points:\n",
        "- **Generators** use the `yield` keyword to produce items one at a time, instead of returning all items at once like a list.\n",
        "- They are defined like functions but use `yield` instead of `return`.\n",
        "- When called, they return an iterator that generates values lazily, only when requested (i.e., on demand).\n",
        "\n",
        "### Example:\n",
        "```python\n",
        "def count_up_to(n):\n",
        "    count = 1\n",
        "    while count <= n:\n",
        "        yield count  # Yield a value\n",
        "        count += 1\n",
        "\n",
        "gen = count_up_to(5)\n",
        "for num in gen:\n",
        "    print(num)\n",
        "```\n",
        "\n",
        "### Benefits:\n",
        "- **Memory-efficient**: Generates values on the fly, without storing them all in memory.\n",
        "- **Lazy evaluation**: Values are computed only when needed.\n",
        "\n",
        "\n",
        "7.**What are the advantages of using generators over regular functions?**\n",
        "\n",
        "Ans - ### Advantages of Using Generators Over Regular Functions:\n",
        "\n",
        "1. **Memory Efficiency**:\n",
        "   - Generators produce items one at a time and do not store the entire sequence in memory, making them more memory-efficient for large datasets.\n",
        "\n",
        "2. **Lazy Evaluation**:\n",
        "   - Generators compute values only when needed (on demand), which can improve performance, especially for large or infinite sequences.\n",
        "\n",
        "3. **Improved Performance**:\n",
        "   - Since they don't need to return all values at once, they reduce the overhead of constructing large data structures like lists.\n",
        "\n",
        "4. **Infinite Sequences**:\n",
        "   - Generators can represent infinite sequences (e.g., Fibonacci numbers) without running out of memory, which would not be possible with regular functions returning a full list.\n",
        "\n",
        "### Example:\n",
        "```python\n",
        "def infinite_count():\n",
        "    count = 1\n",
        "    while True:\n",
        "        yield count\n",
        "        count += 1\n",
        "\n",
        "gen = infinite_count()\n",
        "print(next(gen))  # 1\n",
        "print(next(gen))  # 2\n",
        "```\n",
        "\n",
        "Generators are ideal when working with large data or when you only need to process one item at a time.\n",
        "\n",
        "\n",
        "8. **What is a lambda function in Python and when is it typically used?**\n",
        "\n",
        "Ans - A **lambda function** in Python is an anonymous, one-line function defined using the `lambda` keyword. It can take any number of arguments but can only have a single expression.\n",
        "\n",
        "### Syntax:\n",
        "```python\n",
        "lambda arguments: expression\n",
        "```\n",
        "\n",
        "### Example:\n",
        "```python\n",
        "add = lambda x, y: x + y\n",
        "print(add(2, 3))  # 5\n",
        "```\n",
        "\n",
        "### Typical Use Cases:\n",
        "1. **Short, simple functions**: When you need a function for a short task that doesn't need a full function definition.\n",
        "2. **Functions as arguments**: Often used with functions like `map()`, `filter()`, and `sorted()` where a function is needed temporarily.\n",
        "  \n",
        "Example with `sorted()`:\n",
        "```python\n",
        "data = [(1, 2), (3, 1), (5, 0)]\n",
        "sorted(data, key=lambda x: x[1])  # Sort by the second element\n",
        "```\n",
        "\n",
        "Lambda functions are used for concise and functional-style programming.\n",
        "\n",
        "\n",
        "9. **Explain the purpose and usage of the `map()` function in Python.**\n",
        "\n",
        "Ans- The **`map()`** function in Python is used to apply a given function to all items in an iterable (like a list, tuple, etc.) and returns a map object (an iterator) that yields the results.\n",
        "\n",
        "### Syntax:\n",
        "```python\n",
        "map(function, iterable)\n",
        "```\n",
        "\n",
        "### Purpose:\n",
        "- It allows applying a function to each element of an iterable without the need for an explicit loop.\n",
        "\n",
        "### Example:\n",
        "```python\n",
        "def square(x):\n",
        "    return x * x\n",
        "\n",
        "numbers = [1, 2, 3, 4]\n",
        "squared_numbers = map(square, numbers)\n",
        "print(list(squared_numbers))  # [1, 4, 9, 16]\n",
        "```\n",
        "\n",
        "### Common Usage:\n",
        "- **Transforming** elements of an iterable (e.g., applying a mathematical operation to a list).\n",
        "- It is often used with lambda functions for concise code.\n",
        "\n",
        "Example with `lambda`:\n",
        "```python\n",
        "numbers = [1, 2, 3, 4]\n",
        "squared_numbers = map(lambda x: x ** 2, numbers)\n",
        "print(list(squared_numbers))  # [1, 4, 9, 16]\n",
        "```\n",
        "\n",
        "10. ** What is the difference between `map()`, `reduce()`, and `filter()` functions in Python?**\n",
        "\n",
        "Ans - In Python:\n",
        "\n",
        "- **`map()`**: Applies a given function to all items in an iterable (like a list) and returns a new iterable (map object) with the results.\n",
        "  \n",
        "  Example:  \n",
        "  `map(lambda x: x * 2, [1, 2, 3])` → `[2, 4, 6]`\n",
        "  \n",
        "- **`reduce()`**: Applies a binary function (a function with two arguments) cumulatively to the items in an iterable, reducing it to a single value.\n",
        "  \n",
        "  Example:  \n",
        "  `reduce(lambda x, y: x + y, [1, 2, 3])` → `6`\n",
        "\n",
        "- **`filter()`**: Filters the items in an iterable based on a function that returns `True` or `False`, and returns a new iterable with the items that evaluate to `True`.\n",
        "  \n",
        "  Example:  \n",
        "  `filter(lambda x: x > 1, [1, 2, 3])` → `[2, 3]`\n",
        "\n",
        "\n",
        "11. **Using pen & Paper write the internal mechanism for sum operation using  reduce function on this given\n",
        "list:[47,11,42,13.\n",
        "\n",
        "Ans -  reduce(lambda x, y: x + y, [47, 11, 42, 13])\n",
        "     \n",
        "     \n",
        "    Step 1:    47 + 11 = 58\n",
        "    Step 2:    58 + 42 = 100\n",
        "    Step 3:    100 + 13 = 113\n",
        "    Final Result: 113\n",
        "**(Note - Attached Paper images for this answer )**"
      ]
    },
    {
      "cell_type": "code",
      "execution_count": null,
      "metadata": {
        "id": "ULUXxciMSOwV"
      },
      "outputs": [],
      "source": []
    },
    {
      "cell_type": "markdown",
      "metadata": {
        "id": "lljF_f4uELzm"
      },
      "source": [
        "#Practical Questions:"
      ]
    },
    {
      "cell_type": "code",
      "execution_count": null,
      "metadata": {
        "colab": {
          "base_uri": "https://localhost:8080/"
        },
        "id": "buKVZeZZEQfl",
        "outputId": "1d0e2d45-0496-447c-8884-8ca3a59be643"
      },
      "outputs": [
        {
          "name": "stdout",
          "output_type": "stream",
          "text": [
            "Sum of even numbers: 20\n"
          ]
        }
      ],
      "source": [
        "#Q1-Write a Python function that takes a list of numbers as input and returns the sum of all even numbers in the list.\n",
        "\n",
        "def sum_of_even_numbers(numbers):\n",
        "    # Use filter to select even numbers, then sum them\n",
        "    even_numbers = filter(lambda x: x % 2 == 0, numbers)\n",
        "    return sum(even_numbers)\n",
        "\n",
        "# Example usage\n",
        "numbers = [5, 2, 3, 4, 5, 6, 7, 8]\n",
        "result = sum_of_even_numbers(numbers)\n",
        "print(\"Sum of even numbers:\", result)\n",
        "\n",
        "\n",
        "\n",
        "\n"
      ]
    },
    {
      "cell_type": "code",
      "execution_count": null,
      "metadata": {
        "colab": {
          "base_uri": "https://localhost:8080/"
        },
        "id": "DMB1IydZEl-m",
        "outputId": "85c5ffce-f2f5-42be-b868-cfa565791999"
      },
      "outputs": [
        {
          "name": "stdout",
          "output_type": "stream",
          "text": [
            "Reversed string: olleh\n"
          ]
        }
      ],
      "source": [
        "#Q2- Create a Python function that accepts a string and returns the reverse of that string.\n",
        "\n",
        "def reverse_string(s):\n",
        "    # Return the reversed string using slicing\n",
        "    return s[::-1]\n",
        "\n",
        "# Example usage\n",
        "input_string = \"hello\"\n",
        "reversed_string = reverse_string(input_string)\n",
        "print(\"Reversed string:\", reversed_string)\n",
        "\n",
        "\n"
      ]
    },
    {
      "cell_type": "code",
      "execution_count": null,
      "metadata": {
        "colab": {
          "base_uri": "https://localhost:8080/"
        },
        "id": "veG-MNNbG4K9",
        "outputId": "b2a42cb6-7e07-43f9-8f31-7e9486927133"
      },
      "outputs": [
        {
          "name": "stdout",
          "output_type": "stream",
          "text": [
            "Squared numbers: [1, 4, 9, 16, 25]\n"
          ]
        }
      ],
      "source": [
        "#Q3-  Implement a Python function that takes a list of integers and returns a new list containing the squares of each number.\n",
        "\n",
        "def square_numbers(numbers):\n",
        "    # Use list comprehension to square each number in the list\n",
        "    return [x ** 2 for x in numbers]\n",
        "\n",
        "# Example usage\n",
        "input_list = [1, 2, 3, 4, 5]\n",
        "squared_list = square_numbers(input_list)\n",
        "print(\"Squared numbers:\", squared_list)\n"
      ]
    },
    {
      "cell_type": "code",
      "execution_count": null,
      "metadata": {
        "colab": {
          "base_uri": "https://localhost:8080/"
        },
        "id": "6v_IIQ06JyN8",
        "outputId": "305cf65c-1031-4d38-f2a5-bae1d4212da2"
      },
      "outputs": [
        {
          "name": "stdout",
          "output_type": "stream",
          "text": [
            "2 is prime\n",
            "3 is prime\n",
            "5 is prime\n",
            "7 is prime\n",
            "11 is prime\n",
            "13 is prime\n",
            "17 is prime\n",
            "19 is prime\n",
            "23 is prime\n",
            "29 is prime\n",
            "31 is prime\n",
            "37 is prime\n",
            "41 is prime\n",
            "43 is prime\n",
            "47 is prime\n"
          ]
        }
      ],
      "source": [
        "#Q4-  Write a Python function that checks if a given number is prime or not from 1 to 200.\n",
        "\n",
        "def is_prime(n):\n",
        "    if n <= 1:\n",
        "        return False  # 0 and 1 are not prime numbers\n",
        "    for i in range(2, int(n ** 0.5) + 1):  # check up to the square root of n\n",
        "        if n % i == 0:\n",
        "            return False  # n is divisible by i, so it's not prime\n",
        "    return True  # n is prime if no divisors were found\n",
        "\n",
        "# Example usage: Check for numbers between 1 and 50\n",
        "for number in range(1, 51):\n",
        "    if is_prime(number):\n",
        "        print(number, \"is prime\")\n",
        "\n",
        "\n",
        "\n"
      ]
    },
    {
      "cell_type": "code",
      "execution_count": null,
      "metadata": {
        "colab": {
          "base_uri": "https://localhost:8080/"
        },
        "id": "YLz1iQpVKUwa",
        "outputId": "a90f769d-0438-4ac4-d886-aa7b372ff8af"
      },
      "outputs": [
        {
          "name": "stdout",
          "output_type": "stream",
          "text": [
            "0\n",
            "1\n",
            "1\n",
            "2\n",
            "3\n",
            "5\n",
            "8\n",
            "13\n",
            "21\n",
            "34\n"
          ]
        }
      ],
      "source": [
        "#Q5- Create an iterator class in Python that generates the Fibonacci sequence up to a specified number of terms.\n",
        "\n",
        "class FibonacciIterator:\n",
        "    def __init__(self, terms):\n",
        "        self.terms = terms  # Total number of Fibonacci terms\n",
        "        self.current = 0  # Index of the current Fibonacci term\n",
        "        self.prev, self.curr = 0, 1  # Initial values for the Fibonacci sequence\n",
        "\n",
        "    def __iter__(self):\n",
        "        return self  # Iterator itself\n",
        "\n",
        "    def __next__(self):\n",
        "        if self.current < self.terms:\n",
        "            result = self.prev\n",
        "            self.prev, self.curr = self.curr, self.prev + self.curr  # Update Fibonacci numbers\n",
        "            self.current += 1\n",
        "            return result\n",
        "        else:\n",
        "            raise StopIteration  # Stop iteration when we've generated the specified number of terms\n",
        "\n",
        "\n",
        "# Example usage\n",
        "fib = FibonacciIterator(10)  # Generate first 10 Fibonacci numbers\n",
        "for num in fib:\n",
        "    print(num)\n",
        "\n",
        "\n",
        "\n"
      ]
    },
    {
      "cell_type": "code",
      "execution_count": null,
      "metadata": {
        "colab": {
          "base_uri": "https://localhost:8080/"
        },
        "id": "Tt9cahI-M3ba",
        "outputId": "539cc486-5a25-48e5-994e-6a917666399b"
      },
      "outputs": [
        {
          "name": "stdout",
          "output_type": "stream",
          "text": [
            "1\n",
            "2\n",
            "4\n",
            "8\n",
            "16\n",
            "32\n"
          ]
        }
      ],
      "source": [
        "#Q6- Write a generator function in Python that yields the powers of 2 up to a given exponent.\n",
        "\n",
        "def powers_of_two(exponent):\n",
        "    for i in range(exponent + 1):\n",
        "        yield 2 ** i  # Yield 2 raised to the power of i\n",
        "\n",
        "# Example usage\n",
        "for power in powers_of_two(5):\n",
        "    print(power)\n"
      ]
    },
    {
      "cell_type": "code",
      "execution_count": null,
      "metadata": {
        "id": "_4VOwaX4NQQI",
        "colab": {
          "base_uri": "https://localhost:8080/"
        },
        "outputId": "e640ed66-9da9-43a1-9def-0176b0d24e75"
      },
      "outputs": [
        {
          "output_type": "stream",
          "name": "stdout",
          "text": [
            "File 'C:/Users/YourName/Documents/manjunath.txt' has been created successfully!\n"
          ]
        }
      ],
      "source": [
        "#Q7 - Implement a generator function that reads a file line by line and yields each line as a string.\n",
        "\n",
        "file_path = \"C:/Users/YourName/Documents/manjunath.txt\"\n",
        "def read_file_line_by_line(file_path):\n",
        "    \"\"\"Reads a file line by line and yields each line as a string.\"\"\"\n",
        "    # Content to write in the file\n",
        "    content = \"\"\"Hello Manjunath\n",
        "Welcome to the file reading example.\n",
        "Hope you have a great day!\"\"\"\n",
        "\n",
        "    # Open the file in write mode and write the content\n",
        "    # Creating and writing to the file\n",
        "    with open(file_path, \"w\", encoding=\"utf-8\") as file:\n",
        "        file.write(content)\n",
        "\n",
        "    # Open the file in read mode to read line by line\n",
        "    with open(file_path, \"r\", encoding=\"utf-8\") as file:\n",
        "        for line in file:\n",
        "            yield line.strip()  # strip() to remove newlines\n",
        "\n",
        "print(f\"File '{file_path}' has been created successfully!\")\n",
        "# Example usage (this will iterate through lines, use this if you want to verify function works)\n",
        "# for line in read_file_line_by_line(file_path):\n",
        "#     print(line)\n",
        "\n"
      ]
    },
    {
      "cell_type": "code",
      "execution_count": null,
      "metadata": {
        "id": "Q6MX5-F3Ncrn",
        "colab": {
          "base_uri": "https://localhost:8080/"
        },
        "outputId": "622b9523-bebf-4eaa-a1fa-defbb077facc"
      },
      "outputs": [
        {
          "output_type": "stream",
          "name": "stdout",
          "text": [
            "[(5, 0), (4, 1), (2, 2), (1, 3)]\n"
          ]
        }
      ],
      "source": [
        "#Q8- Use a lambda function in Python to sort a list of tuples based on the second element of each tuple.\n",
        "# List of tuples\n",
        "my_list = [(1, 3), (4, 1), (2, 2), (5, 0)]\n",
        "\n",
        "# Sort the list of tuples based on the second element\n",
        "sorted_list = sorted(my_list, key=lambda x: x[1])\n",
        "\n",
        "print(sorted_list)\n",
        "\n"
      ]
    },
    {
      "cell_type": "code",
      "source": [
        "#Q9-Write a Python program that uses `map()` to convert a list of temperatures from Celsius to Fahrenheit.\n",
        "\n",
        "  # List of temperatures in Celsius\n",
        "celsius_temps = [0, 20, 25, 30, 35]\n",
        "\n",
        "# Function to convert Celsius to Fahrenheit\n",
        "def celsius_to_fahrenheit(celsius):\n",
        "    return (celsius * 9/5) + 32\n",
        "\n",
        "# Use map() to apply the conversion function to each temperature in the list\n",
        "fahrenheit_temps = list(map(celsius_to_fahrenheit, celsius_temps))\n",
        "\n",
        "print(fahrenheit_temps)\n"
      ],
      "metadata": {
        "colab": {
          "base_uri": "https://localhost:8080/"
        },
        "id": "rsVZJoqddJAL",
        "outputId": "e935d2ab-de2f-4228-ab88-a8a6cfcd6ebb"
      },
      "execution_count": null,
      "outputs": [
        {
          "output_type": "stream",
          "name": "stdout",
          "text": [
            "[32.0, 68.0, 77.0, 86.0, 95.0]\n"
          ]
        }
      ]
    },
    {
      "cell_type": "code",
      "source": [
        "#Q10 - Create a Python program that uses `filter()` to remove all the vowels from a given string.\n",
        "\n",
        "  # Function to check if a character is not a vowel\n",
        "def is_not_vowel(char):\n",
        "    vowels = 'aeiouAEIOU'\n",
        "    return char not in vowels\n",
        "\n",
        "# Input string\n",
        "input_string = \"Hello, how are you?\"\n",
        "\n",
        "# Use filter() to remove vowels\n",
        "filtered_string = ''.join(filter(is_not_vowel, input_string))\n",
        "\n",
        "print(filtered_string)\n"
      ],
      "metadata": {
        "colab": {
          "base_uri": "https://localhost:8080/"
        },
        "id": "4oo6eBpAdfpy",
        "outputId": "41353706-8f8e-45df-b0c2-01be05769516"
      },
      "execution_count": null,
      "outputs": [
        {
          "output_type": "stream",
          "name": "stdout",
          "text": [
            "Hll, hw r y?\n"
          ]
        }
      ]
    },
    {
      "cell_type": "code",
      "source": [
        "#Q11 -  Imagine an accounting routine used in a book shop. It works on a list with sublists, which look like this:\n",
        "\n",
        "    # Define the book orders as a list of lists\n",
        "book_orders = [\n",
        "    [34587, \"Learning Python, Mark Lutz\", 4, 40.95],\n",
        "    [98762, \"Programming Python, Mark Lutz\", 5, 56.80],\n",
        "    [77226, \"Head First Python, Paul Barry\", 3, 32.95],\n",
        "    [88112, \"Einführung in Python3, Bernd Klein\", 3, 24.99]\n",
        "]\n",
        "\n",
        "# Use lambda and map to calculate total cost per order with a minimum charge\n",
        "order_totals = list(map(lambda order: (order[0], order[2] * order[3] + (10 if order[2] * order[3] < 100 else 0)), book_orders))\n",
        "\n",
        "# Print results\n",
        "print(order_totals)\n",
        "\n",
        "\n"
      ],
      "metadata": {
        "colab": {
          "base_uri": "https://localhost:8080/"
        },
        "id": "kTTq9hE7dwUO",
        "outputId": "822d27d4-e6d7-4642-8e7f-6e8cc4c35584"
      },
      "execution_count": null,
      "outputs": [
        {
          "output_type": "stream",
          "name": "stdout",
          "text": [
            "[(34587, 163.8), (98762, 284.0), (77226, 108.85000000000001), (88112, 84.97)]\n"
          ]
        }
      ]
    },
    {
      "cell_type": "code",
      "source": [],
      "metadata": {
        "id": "TdMMYvZ5fZ1T"
      },
      "execution_count": null,
      "outputs": []
    }
  ],
  "metadata": {
    "colab": {
      "provenance": []
    },
    "kernelspec": {
      "display_name": "Python 3",
      "name": "python3"
    },
    "language_info": {
      "name": "python"
    }
  },
  "nbformat": 4,
  "nbformat_minor": 0
}